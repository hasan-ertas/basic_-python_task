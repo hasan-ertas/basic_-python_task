{
 "cells": [
  {
   "cell_type": "code",
   "execution_count": 1,
   "id": "6ac9eb4f",
   "metadata": {},
   "outputs": [],
   "source": [
    "# make calculator in python using def function"
   ]
  },
  {
   "cell_type": "code",
   "execution_count": 7,
   "id": "90000800",
   "metadata": {},
   "outputs": [
    {
     "name": "stdout",
     "output_type": "stream",
     "text": [
      "Enter the first number: 12\n",
      "Enter the second number: 45\n",
      "Enter the operation you want to perform: *\n",
      "Result: 540\n"
     ]
    }
   ],
   "source": [
    "########### calculator\n",
    "def calculate(a,b,operation):\n",
    "    if operation=='+':\n",
    "        return a+b\n",
    "    elif operation=='-':\n",
    "        return a-b\n",
    "    elif operation=='*':\n",
    "        return a*b\n",
    "    elif operation=='/':\n",
    "        return a/b  \n",
    "    else:\n",
    "        print('You entered an invalid transaction:')\n",
    "    \n",
    "number_1 = int(input('Enter the first number: '))\n",
    "number_2 = int(input('Enter the second number: '))\n",
    "calculator = input('Enter the operation you want to perform: ')\n",
    "result = calculate(number_1, number_2, calculator)\n",
    "print('Result:', result)"
   ]
  },
  {
   "cell_type": "code",
   "execution_count": null,
   "id": "a0c31c5a",
   "metadata": {},
   "outputs": [],
   "source": []
  },
  {
   "cell_type": "code",
   "execution_count": null,
   "id": "c4ea82e4",
   "metadata": {},
   "outputs": [],
   "source": []
  },
  {
   "cell_type": "code",
   "execution_count": null,
   "id": "8c622929",
   "metadata": {},
   "outputs": [],
   "source": []
  }
 ],
 "metadata": {
  "kernelspec": {
   "display_name": "Python 3 (ipykernel)",
   "language": "python",
   "name": "python3"
  },
  "language_info": {
   "codemirror_mode": {
    "name": "ipython",
    "version": 3
   },
   "file_extension": ".py",
   "mimetype": "text/x-python",
   "name": "python",
   "nbconvert_exporter": "python",
   "pygments_lexer": "ipython3",
   "version": "3.10.9"
  }
 },
 "nbformat": 4,
 "nbformat_minor": 5
}
